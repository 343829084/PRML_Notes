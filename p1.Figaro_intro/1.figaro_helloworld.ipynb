{
 "cells": [
  {
   "cell_type": "code",
   "execution_count": 1,
   "metadata": {
    "collapsed": false
   },
   "outputs": [
    {
     "data": {
      "text/plain": []
     },
     "metadata": {},
     "output_type": "display_data"
    }
   ],
   "source": [
    "classpath.addPath(\"../figaro_2.11-4.1.0.0.jar\")"
   ]
  },
  {
   "cell_type": "code",
   "execution_count": 3,
   "metadata": {
    "collapsed": false
   },
   "outputs": [
    {
     "data": {
      "text/plain": [
       "\u001b[32mimport \u001b[36mcom.cra.figaro.language.{Flip, Select}\u001b[0m\n",
       "\u001b[32mimport \u001b[36mcom.cra.figaro.library.compound.If\u001b[0m\n",
       "\u001b[32mimport \u001b[36mcom.cra.figaro.algorithm.factored.VariableElimination\u001b[0m"
      ]
     },
     "metadata": {},
     "output_type": "display_data"
    }
   ],
   "source": [
    "import com.cra.figaro.language.{Flip, Select}\n",
    "import com.cra.figaro.library.compound.If\n",
    "import com.cra.figaro.algorithm.factored.VariableElimination // 变量消除算法"
   ]
  },
  {
   "cell_type": "code",
   "execution_count": 4,
   "metadata": {
    "collapsed": false
   },
   "outputs": [
    {
     "data": {
      "text/plain": [
       "\u001b[36msunnyToday\u001b[0m: \u001b[32mcom\u001b[0m.\u001b[32mcra\u001b[0m.\u001b[32mfigaro\u001b[0m.\u001b[32mlanguage\u001b[0m.\u001b[32mAtomicFlip\u001b[0m = Flip(0.2)\n",
       "\u001b[36mgreetingToday\u001b[0m: \u001b[32mIf\u001b[0m[\u001b[32mString\u001b[0m] = If(Flip(0.2), Select(0.6 -> Hello, world!, 0.4 -> Howdy, universe!), Select(0.2 -> Hello, world!, 0.8 -> Oh no, not again))\n",
       "\u001b[36msunnyTomorrow\u001b[0m: \u001b[32mIf\u001b[0m[\u001b[32mBoolean\u001b[0m] = If(Flip(0.2), Flip(0.8), Flip(0.05))\n",
       "\u001b[36mgreetingTomorrow\u001b[0m: \u001b[32mIf\u001b[0m[\u001b[32mString\u001b[0m] = If(If(Flip(0.2), Flip(0.8), Flip(0.05)), Select(0.6 -> Hello, world!, 0.4 -> Howdy, universe!), Select(0.2 -> Hello, world!, 0.8 -> Oh no, not again))"
      ]
     },
     "metadata": {},
     "output_type": "display_data"
    }
   ],
   "source": [
    "// 定义模型\n",
    "val sunnyToday = Flip(0.2)\n",
    "val greetingToday = If(sunnyToday,\n",
    "                    Select(0.6 -> \"Hello, world!\", 0.4 -> \"Howdy, universe!\"),\n",
    "                    Select(0.2 -> \"Hello, world!\", 0.8 -> \"Oh no, not again\"))\n",
    "val sunnyTomorrow = If(sunnyToday, Flip(0.8), Flip(0.05))\n",
    "val greetingTomorrow = If(sunnyTomorrow,\n",
    "                    Select(0.6 -> \"Hello, world!\", 0.4 -> \"Howdy, universe!\"),\n",
    "                    Select(0.2 -> \"Hello, world!\", 0.8 -> \"Oh no, not again\"))"
   ]
  },
  {
   "cell_type": "code",
   "execution_count": 5,
   "metadata": {
    "collapsed": false
   },
   "outputs": [
    {
     "data": {
      "text/plain": [
       "defined \u001b[32mfunction \u001b[36mpredict\u001b[0m"
      ]
     },
     "metadata": {},
     "output_type": "display_data"
    }
   ],
   "source": [
    "// 用推测算法预测今天的问候语\n",
    "def predict() {\n",
    "    val result = VariableElimination.probability(greetingToday, \"Hello, world!\")\n",
    "    println(\"Today's greeting is \\\"Hello, world!\\\" \" +\n",
    "           \"with probability \" + result + \".\")\n",
    "}"
   ]
  },
  {
   "cell_type": "code",
   "execution_count": 6,
   "metadata": {
    "collapsed": false
   },
   "outputs": [
    {
     "data": {
      "text/plain": [
       "defined \u001b[32mfunction \u001b[36minfer\u001b[0m"
      ]
     },
     "metadata": {},
     "output_type": "display_data"
    }
   ],
   "source": [
    "// 根据今天的问候语是hello world，使用推理算法推理今天的天气\n",
    "def infer() {\n",
    "    greetingToday.observe(\"Hello, world!\")\n",
    "    val result = VariableElimination.probability(sunnyToday, true)\n",
    "    println(\"If today's greeting is \\\"Hello, world!\\\", today's \" +\n",
    "           \"weather is sunny with probability \" + result + \".\")\n",
    "}"
   ]
  },
  {
   "cell_type": "code",
   "execution_count": 7,
   "metadata": {
    "collapsed": false
   },
   "outputs": [
    {
     "data": {
      "text/plain": [
       "defined \u001b[32mfunction \u001b[36mlearnAndPredict\u001b[0m"
      ]
     },
     "metadata": {},
     "output_type": "display_data"
    }
   ],
   "source": [
    "// 从今天的问候语是hello world这一观测中学习，用推理算法预测明天的问候语\n",
    "def learnAndPredict() {\n",
    "    greetingToday.observe(\"Hello, world!\")\n",
    "    val result = VariableElimination.probability(greetingTomorrow, \"Hello, world!\")\n",
    "    println(\"If today's greeting is \\\"Hello, world!\\\", \" +\n",
    "           \"tomorrow's greeting will be \\\"Hello, world!\\\" \" +\n",
    "           \"with probability \" + result + \".\")\n",
    "}"
   ]
  },
  {
   "cell_type": "code",
   "execution_count": 8,
   "metadata": {
    "collapsed": false
   },
   "outputs": [
    {
     "name": "stdout",
     "output_type": "stream",
     "text": [
      "Today's greeting is \"Hello, world!\" with probability 0.27999999999999997.\n",
      "If today's greeting is \"Hello, world!\", today's weather is sunny with probability 0.4285714285714285.\n",
      "If today's greeting is \"Hello, world!\", tomorrow's greeting will be \"Hello, world!\" with probability 0.3485714285714286.\n"
     ]
    },
    {
     "data": {
      "text/plain": []
     },
     "metadata": {},
     "output_type": "display_data"
    }
   ],
   "source": [
    "// 执行所有任务\n",
    "predict()\n",
    "infer()\n",
    "learnAndPredict()"
   ]
  },
  {
   "cell_type": "markdown",
   "metadata": {
    "collapsed": true
   },
   "source": [
    "### Figaro的关键概念及其组合\n",
    "![](./figaro_concept.png)\n",
    "Figaro模型用来表达一般知识。您以证据的形式提供关于某种情况的具体知识。查询告诉系统您所感兴趣的发现。Figaro推理算法取得证据并用模型提供查询的答案。\n",
    "Figaro的查询通过指明目标元素和您想知道的有关情况指明。您使用某种算法，按照证据找出有关目标元素的信息。通常，您必须实例化某种算法，运行并在之后清理。我已经提供了使用默认设置执行所有步骤的简单方法。在运行算法之后，您可以获得查询的答案。这些算法最常采取目标元素的各种取值概率。有时候，它们没有告诉您概率，而是得出每个目标元素的最可能取值。对于每个目标元素，答案告诉您最高概率的取值。"
   ]
  },
  {
   "cell_type": "code",
   "execution_count": null,
   "metadata": {
    "collapsed": true
   },
   "outputs": [],
   "source": []
  }
 ],
 "metadata": {
  "anaconda-cloud": {},
  "kernelspec": {
   "display_name": "Scala 2.11",
   "language": "scala211",
   "name": "scala211"
  },
  "language_info": {
   "codemirror_mode": "text/x-scala",
   "file_extension": ".scala",
   "mimetype": "text/x-scala",
   "name": "scala211",
   "pygments_lexer": "scala",
   "version": "2.11.8"
  }
 },
 "nbformat": 4,
 "nbformat_minor": 0
}
