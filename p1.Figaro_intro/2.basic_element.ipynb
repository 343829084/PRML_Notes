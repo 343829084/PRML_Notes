{
 "cells": [
  {
   "cell_type": "code",
   "execution_count": 1,
   "metadata": {
    "collapsed": false
   },
   "outputs": [
    {
     "data": {
      "text/plain": []
     },
     "metadata": {},
     "output_type": "display_data"
    }
   ],
   "source": [
    "classpath.addPath(\"../jsci-1.2.jar\")\n",
    "classpath.addPath(\"../figaro_2.11-4.1.0.0.jar\")"
   ]
  },
  {
   "cell_type": "markdown",
   "metadata": {},
   "source": [
    "[Figaro快速教程](http://www.epubit.com.cn/book/onlinechapter/51552)"
   ]
  },
  {
   "cell_type": "markdown",
   "metadata": {},
   "source": [
    "### 1. 离散分布（离散原子元素）"
   ]
  },
  {
   "cell_type": "code",
   "execution_count": 2,
   "metadata": {
    "collapsed": false
   },
   "outputs": [
    {
     "data": {
      "text/plain": [
       "\u001b[32mimport \u001b[36mcom.cra.figaro.language._\u001b[0m\n",
       "\u001b[32mimport \u001b[36mcom.cra.figaro.algorithm.factored.VariableElimination\u001b[0m"
      ]
     },
     "metadata": {},
     "output_type": "display_data"
    }
   ],
   "source": [
    "import com.cra.figaro.language._\n",
    "import com.cra.figaro.algorithm.factored.VariableElimination"
   ]
  },
  {
   "cell_type": "code",
   "execution_count": 3,
   "metadata": {
    "collapsed": false
   },
   "outputs": [
    {
     "name": "stdout",
     "output_type": "stream",
     "text": [
      "0.2\n",
      "0.8\n"
     ]
    },
    {
     "data": {
      "text/plain": [
       "\u001b[36msunnyToday\u001b[0m: \u001b[32mAtomicFlip\u001b[0m = Flip(0.2)"
      ]
     },
     "metadata": {},
     "output_type": "display_data"
    }
   ],
   "source": [
    "// Flip 伯努利分布\n",
    "val sunnyToday = Flip(0.2)\n",
    "println(VariableElimination.probability(sunnyToday, true))\n",
    "println(VariableElimination.probability(sunnyToday, false))"
   ]
  },
  {
   "cell_type": "code",
   "execution_count": 4,
   "metadata": {
    "collapsed": false
   },
   "outputs": [
    {
     "name": "stdout",
     "output_type": "stream",
     "text": [
      "0.30000000000000004\n"
     ]
    },
    {
     "data": {
      "text/plain": [
       "\u001b[36mgreeting\u001b[0m: \u001b[32mAtomicSelect\u001b[0m[\u001b[32mString\u001b[0m] = Select(0.6 -> Hello, world!, 0.3 -> Howdy, universe!, 0.1 -> Oh no, not again)"
      ]
     },
     "metadata": {},
     "output_type": "display_data"
    }
   ],
   "source": [
    "// Select 离散分布\n",
    "val greeting = Select(0.6 -> \"Hello, world!\", 0.3 -> \"Howdy, universe!\", 0.1 -> \"Oh no, not again\")\n",
    "println(VariableElimination.probability(greeting, \"Howdy, universe!\"))"
   ]
  },
  {
   "cell_type": "code",
   "execution_count": 5,
   "metadata": {
    "collapsed": false
   },
   "outputs": [
    {
     "data": {
      "text/plain": [
       "\u001b[32mimport \u001b[36mcom.cra.figaro.library.atomic.discrete.Binomial\u001b[0m\n",
       "\u001b[36mnumSunnyDaysInWeek\u001b[0m: \u001b[32mcom\u001b[0m.\u001b[32mcra\u001b[0m.\u001b[32mfigaro\u001b[0m.\u001b[32mlibrary\u001b[0m.\u001b[32matomic\u001b[0m.\u001b[32mdiscrete\u001b[0m.\u001b[32mAtomicBinomial\u001b[0m = Binomial(7, 0.2)"
      ]
     },
     "metadata": {},
     "output_type": "display_data"
    }
   ],
   "source": [
    "// Binomial 二项分布\n",
    "import com.cra.figaro.library.atomic.discrete.Binomial\n",
    "\n",
    "val numSunnyDaysInWeek = Binomial(7, 0.2)"
   ]
  },
  {
   "cell_type": "code",
   "execution_count": 6,
   "metadata": {
    "collapsed": false
   },
   "outputs": [
    {
     "name": "stdout",
     "output_type": "stream",
     "text": [
      "0.3670016\n"
     ]
    },
    {
     "data": {
      "text/plain": []
     },
     "metadata": {},
     "output_type": "display_data"
    }
   ],
   "source": [
    "println(VariableElimination.probability(numSunnyDaysInWeek, 1))\n",
    "//java.lang.NoClassDefFoundError: JSci/maths/ExtraMath"
   ]
  },
  {
   "cell_type": "markdown",
   "metadata": {},
   "source": [
    "### 2. 连续分布（连续原子元素）"
   ]
  },
  {
   "cell_type": "code",
   "execution_count": 7,
   "metadata": {
    "collapsed": false
   },
   "outputs": [
    {
     "data": {
      "text/plain": [
       "\u001b[32mimport \u001b[36mcom.cra.figaro.library.atomic.continuous.Normal\u001b[0m\n",
       "\u001b[36mtemperature\u001b[0m: \u001b[32mcom\u001b[0m.\u001b[32mcra\u001b[0m.\u001b[32mfigaro\u001b[0m.\u001b[32mlibrary\u001b[0m.\u001b[32matomic\u001b[0m.\u001b[32mcontinuous\u001b[0m.\u001b[32mAtomicNormal\u001b[0m = Normal(40.0, 100.0)"
      ]
     },
     "metadata": {},
     "output_type": "display_data"
    }
   ],
   "source": [
    "// 正态分布\n",
    "import com.cra.figaro.library.atomic.continuous.Normal\n",
    "val temperature = Normal(40, 100)"
   ]
  },
  {
   "cell_type": "code",
   "execution_count": 8,
   "metadata": {
    "collapsed": false
   },
   "outputs": [
    {
     "name": "stdout",
     "output_type": "stream",
     "text": [
      "0.1607999999999988\n"
     ]
    },
    {
     "data": {
      "text/plain": [
       "\u001b[32mimport \u001b[36mcom.cra.figaro.algorithm.sampling.Importance\u001b[0m\n",
       "defined \u001b[32mfunction \u001b[36mgreaterThan50\u001b[0m"
      ]
     },
     "metadata": {},
     "output_type": "display_data"
    }
   ],
   "source": [
    "import com.cra.figaro.algorithm.sampling.Importance\n",
    "def greaterThan50(d: Double) = d > 50\n",
    "println(Importance.probability(temperature, greaterThan50 _))"
   ]
  },
  {
   "cell_type": "code",
   "execution_count": 9,
   "metadata": {
    "collapsed": false
   },
   "outputs": [
    {
     "data": {
      "text/plain": [
       "\u001b[32mimport \u001b[36mcom.cra.figaro.library.atomic.continuous.Uniform\u001b[0m\n",
       "\u001b[36mtemperature2\u001b[0m: \u001b[32mcom\u001b[0m.\u001b[32mcra\u001b[0m.\u001b[32mfigaro\u001b[0m.\u001b[32mlibrary\u001b[0m.\u001b[32matomic\u001b[0m.\u001b[32mcontinuous\u001b[0m.\u001b[32mAtomicUniform\u001b[0m = Uniform(10.0, 70.0)"
      ]
     },
     "metadata": {},
     "output_type": "display_data"
    }
   ],
   "source": [
    "// 均匀分布\n",
    "import com.cra.figaro.library.atomic.continuous.Uniform\n",
    "val temperature2 = Uniform(10, 70)"
   ]
  },
  {
   "cell_type": "code",
   "execution_count": 10,
   "metadata": {
    "collapsed": false
   },
   "outputs": [
    {
     "data": {
      "text/plain": [
       "\u001b[36mres9\u001b[0m: \u001b[32mDouble\u001b[0m = \u001b[32m0.33569999999997957\u001b[0m"
      ]
     },
     "metadata": {},
     "output_type": "display_data"
    }
   ],
   "source": [
    "Importance.probability(temperature2, greaterThan50 _)"
   ]
  },
  {
   "cell_type": "markdown",
   "metadata": {},
   "source": [
    "### 3. 复合元素"
   ]
  },
  {
   "cell_type": "markdown",
   "metadata": {},
   "source": [
    "#### 3.1 If"
   ]
  },
  {
   "cell_type": "code",
   "execution_count": 11,
   "metadata": {
    "collapsed": false
   },
   "outputs": [
    {
     "data": {
      "text/plain": [
       "\u001b[32mimport \u001b[36mcom.cra.figaro.library.compound.If\u001b[0m\n",
       "\u001b[36msunnyToday\u001b[0m: \u001b[32mAtomicFlip\u001b[0m = Flip(0.2)\n",
       "\u001b[36mgreetingToday\u001b[0m: \u001b[32mcom\u001b[0m.\u001b[32mcra\u001b[0m.\u001b[32mfigaro\u001b[0m.\u001b[32mlibrary\u001b[0m.\u001b[32mcompound\u001b[0m.\u001b[32mIf\u001b[0m[\u001b[32mString\u001b[0m] = If(Flip(0.2), Select(0.6 -> Hello, world!, 0.4 -> Howdy, universe!), Select(0.2 -> Hello, world!, 0.8 -> Oh no, not again))"
      ]
     },
     "metadata": {},
     "output_type": "display_data"
    }
   ],
   "source": [
    "// If随机过程，首先检查测试结果，如果测试值是true则生成then子句的值，否则生成else子句的值\n",
    "import com.cra.figaro.library.compound.If\n",
    "\n",
    "val sunnyToday = Flip(0.2)\n",
    "val greetingToday = If(sunnyToday, \n",
    "                    Select(0.6 -> \"Hello, world!\", 0.4 -> \"Howdy, universe!\"),\n",
    "                    Select(0.2 -> \"Hello, world!\", 0.8 -> \"Oh no, not again\"))"
   ]
  },
  {
   "cell_type": "code",
   "execution_count": 12,
   "metadata": {
    "collapsed": false
   },
   "outputs": [
    {
     "name": "stdout",
     "output_type": "stream",
     "text": [
      "0.27999999999999997\n"
     ]
    },
    {
     "data": {
      "text/plain": []
     },
     "metadata": {},
     "output_type": "display_data"
    }
   ],
   "source": [
    "println(VariableElimination.probability(greetingToday, \"Hello, world!\"))"
   ]
  },
  {
   "cell_type": "code",
   "execution_count": 13,
   "metadata": {
    "collapsed": false
   },
   "outputs": [
    {
     "name": "stdout",
     "output_type": "stream",
     "text": [
      "0.6\n"
     ]
    },
    {
     "data": {
      "text/plain": []
     },
     "metadata": {},
     "output_type": "display_data"
    }
   ],
   "source": [
    "sunnyToday.observe(true)\n",
    "println(VariableElimination.probability(greetingToday, \"Hello, world!\"))"
   ]
  },
  {
   "cell_type": "code",
   "execution_count": 14,
   "metadata": {
    "collapsed": false
   },
   "outputs": [
    {
     "name": "stdout",
     "output_type": "stream",
     "text": [
      "0.2\n"
     ]
    },
    {
     "data": {
      "text/plain": []
     },
     "metadata": {},
     "output_type": "display_data"
    }
   ],
   "source": [
    "sunnyToday.observe(false)\n",
    "println(VariableElimination.probability(greetingToday, \"Hello, world!\"))"
   ]
  },
  {
   "cell_type": "markdown",
   "metadata": {},
   "source": [
    "#### 3.2 Dist"
   ]
  },
  {
   "cell_type": "code",
   "execution_count": 15,
   "metadata": {
    "collapsed": false
   },
   "outputs": [
    {
     "data": {
      "text/plain": [
       "\u001b[36mgoodMood\u001b[0m: \u001b[32mAtomicDist\u001b[0m[\u001b[32mBoolean\u001b[0m] = Dist(0.2 -> Flip(0.6), 0.8 -> Flip(0.2))"
      ]
     },
     "metadata": {},
     "output_type": "display_data"
    }
   ],
   "source": [
    "// Dist, 它选择一组元素中的一个而不是选择一组值中的一个\n",
    "val goodMood = Dist(0.2 -> Flip(0.6), 0.8 -> Flip(0.2))"
   ]
  },
  {
   "cell_type": "code",
   "execution_count": 16,
   "metadata": {
    "collapsed": false
   },
   "outputs": [
    {
     "name": "stdout",
     "output_type": "stream",
     "text": [
      "0.28\n"
     ]
    },
    {
     "data": {
      "text/plain": []
     },
     "metadata": {},
     "output_type": "display_data"
    }
   ],
   "source": [
    "// print 0.28 = 0.2*0.6 + 0.8*0.2\n",
    "println(VariableElimination.probability(goodMood, true))"
   ]
  },
  {
   "cell_type": "markdown",
   "metadata": {},
   "source": [
    "#### 3.3 原子元素的复合版本"
   ]
  },
  {
   "cell_type": "code",
   "execution_count": 17,
   "metadata": {
    "collapsed": false
   },
   "outputs": [
    {
     "name": "stdout",
     "output_type": "stream",
     "text": [
      "0.2602000000000055\n"
     ]
    },
    {
     "data": {
      "text/plain": [
       "\u001b[36msunnyTodayProbability\u001b[0m: \u001b[32mcom\u001b[0m.\u001b[32mcra\u001b[0m.\u001b[32mfigaro\u001b[0m.\u001b[32mlibrary\u001b[0m.\u001b[32matomic\u001b[0m.\u001b[32mcontinuous\u001b[0m.\u001b[32mAtomicUniform\u001b[0m = Uniform(0.0, 0.5)\n",
       "\u001b[36msunnyToday\u001b[0m: \u001b[32mFlip\u001b[0m = Flip(Uniform(0.0, 0.5))"
      ]
     },
     "metadata": {},
     "output_type": "display_data"
    }
   ],
   "source": [
    "// 晴天的概率不确定\n",
    "val sunnyTodayProbability = Uniform(0, 0.5)\n",
    "val sunnyToday = Flip(sunnyTodayProbability)\n",
    "println(Importance.probability(sunnyToday, true))"
   ]
  },
  {
   "cell_type": "code",
   "execution_count": 18,
   "metadata": {
    "collapsed": false
   },
   "outputs": [
    {
     "name": "stdout",
     "output_type": "stream",
     "text": [
      "0.1654999999999983\n"
     ]
    },
    {
     "data": {
      "text/plain": [
       "\u001b[36mtempMean\u001b[0m: \u001b[32mcom\u001b[0m.\u001b[32mcra\u001b[0m.\u001b[32mfigaro\u001b[0m.\u001b[32mlibrary\u001b[0m.\u001b[32matomic\u001b[0m.\u001b[32mcontinuous\u001b[0m.\u001b[32mAtomicNormal\u001b[0m = Normal(40.0, 9.0)\n",
       "\u001b[36mtempVariance\u001b[0m: \u001b[32mAtomicSelect\u001b[0m[\u001b[32mDouble\u001b[0m] = Select(0.5 -> 80.0, 0.5 -> 105.0)\n",
       "\u001b[36mtemperature\u001b[0m: \u001b[32mcom\u001b[0m.\u001b[32mcra\u001b[0m.\u001b[32mfigaro\u001b[0m.\u001b[32mlibrary\u001b[0m.\u001b[32matomic\u001b[0m.\u001b[32mcontinuous\u001b[0m.\u001b[32mCompoundNormal\u001b[0m = Normal(Normal(40.0, 9.0), Select(0.5 -> 80.0, 0.5 -> 105.0))"
      ]
     },
     "metadata": {},
     "output_type": "display_data"
    }
   ],
   "source": [
    "// 均值和方差都不确定\n",
    "val tempMean = Normal(40, 9)\n",
    "val tempVariance = Select(0.5 -> 80.0, 0.5 -> 105.0)\n",
    "val temperature = Normal(tempMean, tempVariance)\n",
    "println(Importance.probability(temperature, (d: Double) => d > 50))"
   ]
  },
  {
   "cell_type": "markdown",
   "metadata": {},
   "source": [
    "### 4. Apply和Chain构建更复杂的模型"
   ]
  },
  {
   "cell_type": "markdown",
   "metadata": {},
   "source": [
    "#### 4.1 Apply\n",
    "Apply以一个元素和一个Scala函数作为参数，它代表将Scala函数应用到该元素值以获得新值的过程。"
   ]
  },
  {
   "cell_type": "code",
   "execution_count": 19,
   "metadata": {
    "collapsed": false
   },
   "outputs": [
    {
     "data": {
      "text/plain": [
       "\u001b[36msunnyDaysInMonth\u001b[0m: \u001b[32mcom\u001b[0m.\u001b[32mcra\u001b[0m.\u001b[32mfigaro\u001b[0m.\u001b[32mlibrary\u001b[0m.\u001b[32matomic\u001b[0m.\u001b[32mdiscrete\u001b[0m.\u001b[32mAtomicBinomial\u001b[0m = Binomial(30, 0.2)\n",
       "defined \u001b[32mfunction \u001b[36mgetQuality\u001b[0m\n",
       "\u001b[36mmonthQuality\u001b[0m: \u001b[32mApply1\u001b[0m[\u001b[32mInt\u001b[0m, \u001b[32mString\u001b[0m] = Apply(Binomial(30, 0.2), <function1>)"
      ]
     },
     "metadata": {},
     "output_type": "display_data"
    }
   ],
   "source": [
    "val sunnyDaysInMonth = Binomial(30, 0.2)\n",
    "def getQuality(i: Int): String =\n",
    "    if(i > 10) \"good\"; else if (i > 5) \"average\"; else \"poor\"\n",
    "val monthQuality = Apply(sunnyDaysInMonth, getQuality)"
   ]
  },
  {
   "cell_type": "code",
   "execution_count": 20,
   "metadata": {
    "collapsed": false
   },
   "outputs": [
    {
     "name": "stdout",
     "output_type": "stream",
     "text": [
      "0.025616255335326694\n"
     ]
    },
    {
     "data": {
      "text/plain": []
     },
     "metadata": {},
     "output_type": "display_data"
    }
   ],
   "source": [
    "println(VariableElimination.probability(monthQuality, \"good\"))"
   ]
  },
  {
   "cell_type": "markdown",
   "metadata": {},
   "source": [
    "Apply元素定义随机过程，它首先生成第一个元素参数的值，然后，该过程取得第二个函数参数，并将其应用到生成的值。"
   ]
  },
  {
   "cell_type": "markdown",
   "metadata": {},
   "source": [
    "#### 4.2 Chain\n",
    "Chain用于将元素链接为一个模型，模型中的元素依赖于另一个元素，那个元素又依赖其他的元素，以此类推。这和概率的链式法则相关。\n",
    "Chain和Apply之间的差别是**Apply中的函数返回常规的Scala值，而Chain中的函数返回一个元素。**"
   ]
  },
  {
   "cell_type": "code",
   "execution_count": 21,
   "metadata": {
    "collapsed": false
   },
   "outputs": [
    {
     "data": {
      "text/plain": [
       "\u001b[36mgoodMood\u001b[0m: \u001b[32mChain\u001b[0m[\u001b[32mString\u001b[0m, \u001b[32mBoolean\u001b[0m] = Chain(Apply(Binomial(30, 0.2), <function1>), <function1>)"
      ]
     },
     "metadata": {},
     "output_type": "display_data"
    }
   ],
   "source": [
    "val goodMood = Chain(monthQuality, (s: String) =>\n",
    "                    if(s == \"good\") Flip(0.9)\n",
    "                    else if (s == \"average\") Flip(0.6)\n",
    "                    else Flip(0.1))"
   ]
  },
  {
   "cell_type": "code",
   "execution_count": 22,
   "metadata": {
    "collapsed": false
   },
   "outputs": [
    {
     "name": "stdout",
     "output_type": "stream",
     "text": [
      "0.3939286578054374\n"
     ]
    },
    {
     "data": {
      "text/plain": []
     },
     "metadata": {},
     "output_type": "display_data"
    }
   ],
   "source": [
    "println(VariableElimination.probability(goodMood, true))"
   ]
  },
  {
   "cell_type": "markdown",
   "metadata": {},
   "source": [
    "### 5. 条件和约束指定证据"
   ]
  },
  {
   "cell_type": "markdown",
   "metadata": {},
   "source": [
    "#### 5.1 观测值"
   ]
  },
  {
   "cell_type": "code",
   "execution_count": 23,
   "metadata": {
    "collapsed": false
   },
   "outputs": [
    {
     "data": {
      "text/plain": []
     },
     "metadata": {},
     "output_type": "display_data"
    }
   ],
   "source": [
    "greetingToday.observe(\"Hello, world!\")"
   ]
  },
  {
   "cell_type": "code",
   "execution_count": 24,
   "metadata": {
    "collapsed": false
   },
   "outputs": [
    {
     "name": "stdout",
     "output_type": "stream",
     "text": [
      "Warning: you are using a factored algorithm with continuous or infinite elements. The element will be sampled 15 times\n",
      "0.23561405398220533\n"
     ]
    },
    {
     "data": {
      "text/plain": []
     },
     "metadata": {},
     "output_type": "display_data"
    }
   ],
   "source": [
    "println(VariableElimination.probability(sunnyToday, true))"
   ]
  },
  {
   "cell_type": "code",
   "execution_count": 25,
   "metadata": {
    "collapsed": false
   },
   "outputs": [
    {
     "data": {
      "text/plain": []
     },
     "metadata": {},
     "output_type": "display_data"
    }
   ],
   "source": [
    "greetingToday.unobserve()"
   ]
  },
  {
   "cell_type": "code",
   "execution_count": 26,
   "metadata": {
    "collapsed": false
   },
   "outputs": [
    {
     "name": "stdout",
     "output_type": "stream",
     "text": [
      "0.23561405398220536\n"
     ]
    },
    {
     "data": {
      "text/plain": []
     },
     "metadata": {},
     "output_type": "display_data"
    }
   ],
   "source": [
    "println(VariableElimination.probability(sunnyToday, true))"
   ]
  },
  {
   "cell_type": "markdown",
   "metadata": {},
   "source": [
    "#### 5.2 条件\n",
    "observe指定元素的特定值，条件指定一个布尔函数。"
   ]
  },
  {
   "cell_type": "markdown",
   "metadata": {},
   "source": [
    "``` scala\n",
    "val sunnyDaysInMonth = Binomial(30, 0.2)\n",
    "def getQuality(i: Int): String =\n",
    "    if(i > 10) \"good\"; else if (i > 5) \"average\"; else \"poor\"\n",
    "val monthQuality = Apply(sunnyDaysInMonth, getQuality)\n",
    "val goodMood = Chain(monthQuality, (s: String) =>\n",
    "                    if(s == \"good\") Flip(0.9)\n",
    "                    else if (s == \"average\") Flip(0.6)\n",
    "                    else Flip(0.1))\n",
    "```"
   ]
  },
  {
   "cell_type": "code",
   "execution_count": 27,
   "metadata": {
    "collapsed": false
   },
   "outputs": [
    {
     "name": "stdout",
     "output_type": "stream",
     "text": [
      "0.3939286578054374\n"
     ]
    },
    {
     "data": {
      "text/plain": []
     },
     "metadata": {},
     "output_type": "display_data"
    }
   ],
   "source": [
    "println(VariableElimination.probability(goodMood, true))"
   ]
  },
  {
   "cell_type": "code",
   "execution_count": 30,
   "metadata": {
    "collapsed": false
   },
   "outputs": [
    {
     "name": "stdout",
     "output_type": "stream",
     "text": [
      "0.6597344078195808\n"
     ]
    },
    {
     "data": {
      "text/plain": []
     },
     "metadata": {},
     "output_type": "display_data"
    }
   ],
   "source": [
    "// 规定sunnyDaysInMonth必须大于8，好心情的概率明显上升\n",
    "sunnyDaysInMonth.setCondition((i: Int) => i > 8)\n",
    "println(VariableElimination.probability(goodMood, true))"
   ]
  },
  {
   "cell_type": "code",
   "execution_count": 31,
   "metadata": {
    "collapsed": false
   },
   "outputs": [
    {
     "name": "stdout",
     "output_type": "stream",
     "text": [
      "0.9\n"
     ]
    },
    {
     "data": {
      "text/plain": []
     },
     "metadata": {},
     "output_type": "display_data"
    }
   ],
   "source": [
    "// sunnyDaysInMonth必须比3的倍数大2，排除9和10等等情况的可能\n",
    "sunnyDaysInMonth.addCondition((i: Int) => i % 3 == 2)\n",
    "println(VariableElimination.probability(goodMood, true))"
   ]
  },
  {
   "cell_type": "code",
   "execution_count": 32,
   "metadata": {
    "collapsed": false
   },
   "outputs": [
    {
     "name": "stdout",
     "output_type": "stream",
     "text": [
      "0.3939286578054374\n"
     ]
    },
    {
     "data": {
      "text/plain": []
     },
     "metadata": {},
     "output_type": "display_data"
    }
   ],
   "source": [
    "sunnyDaysInMonth.removeConditions()\n",
    "println(VariableElimination.probability(goodMood, true))"
   ]
  },
  {
   "cell_type": "markdown",
   "metadata": {},
   "source": [
    "#### 5.3 约束\n",
    "约束是从一个元素值到Double类型的函数，约束改变不同状态的概率。"
   ]
  },
  {
   "cell_type": "code",
   "execution_count": 33,
   "metadata": {
    "collapsed": false
   },
   "outputs": [
    {
     "data": {
      "text/plain": []
     },
     "metadata": {},
     "output_type": "display_data"
    }
   ],
   "source": [
    "// 表示为goodMood为true的可能性只是false的一半\n",
    "goodMood.addConstraint((b: Boolean) => if(b) 0.5; else 1.0)"
   ]
  },
  {
   "cell_type": "code",
   "execution_count": 34,
   "metadata": {
    "collapsed": false
   },
   "outputs": [
    {
     "name": "stdout",
     "output_type": "stream",
     "text": [
      "0.24527469450215497\n"
     ]
    },
    {
     "data": {
      "text/plain": []
     },
     "metadata": {},
     "output_type": "display_data"
    }
   ],
   "source": [
    "println(VariableElimination.probability(goodMood, true))"
   ]
  },
  {
   "cell_type": "markdown",
   "metadata": {},
   "source": [
    "作为连接元素的约束"
   ]
  },
  {
   "cell_type": "code",
   "execution_count": 35,
   "metadata": {
    "collapsed": false
   },
   "outputs": [
    {
     "data": {
      "text/plain": [
       "\u001b[36mresult1\u001b[0m: \u001b[32mAtomicFlip\u001b[0m = Flip(0.4)\n",
       "\u001b[36mresult2\u001b[0m: \u001b[32mAtomicFlip\u001b[0m = Flip(0.4)\n",
       "\u001b[36mresult3\u001b[0m: \u001b[32mAtomicFlip\u001b[0m = Flip(0.4)"
      ]
     },
     "metadata": {},
     "output_type": "display_data"
    }
   ],
   "source": [
    "// 定义三场比赛的结果\n",
    "val result1 = Flip(0.4)\n",
    "val result2 = Flip(0.4)\n",
    "val result3 = Flip(0.4)"
   ]
  },
  {
   "cell_type": "code",
   "execution_count": 36,
   "metadata": {
    "collapsed": false
   },
   "outputs": [
    {
     "data": {
      "text/plain": [
       "\u001b[36mallWins\u001b[0m: \u001b[32mApply3\u001b[0m[\u001b[32mBoolean\u001b[0m, \u001b[32mBoolean\u001b[0m, \u001b[32mBoolean\u001b[0m, \u001b[32mBoolean\u001b[0m] = Apply(Flip(0.4), Flip(0.4), Flip(0.4), <function3>)"
      ]
     },
     "metadata": {},
     "output_type": "display_data"
    }
   ],
   "source": [
    "val allWins = Apply(result1, result2, result3,\n",
    "                   (w1: Boolean, w2: Boolean, w3: Boolean) => w1 && w2 && w3)"
   ]
  },
  {
   "cell_type": "code",
   "execution_count": 37,
   "metadata": {
    "collapsed": false
   },
   "outputs": [
    {
     "name": "stdout",
     "output_type": "stream",
     "text": [
      "0.06400000000000002\n"
     ]
    },
    {
     "data": {
      "text/plain": []
     },
     "metadata": {},
     "output_type": "display_data"
    }
   ],
   "source": [
    "println(VariableElimination.probability(allWins, true))"
   ]
  },
  {
   "cell_type": "code",
   "execution_count": 38,
   "metadata": {
    "collapsed": false
   },
   "outputs": [
    {
     "data": {
      "text/plain": [
       "defined \u001b[32mfunction \u001b[36mmakeStreaky\u001b[0m"
      ]
     },
     "metadata": {},
     "output_type": "display_data"
    }
   ],
   "source": [
    "def makeStreaky(r1: Element[Boolean], r2: Element[Boolean]) {\n",
    "    val pair = Apply(r1, r2, (b1: Boolean, b2: Boolean) => (b1, b2))\n",
    "    pair.setConstraint((bb: (Boolean, Boolean)) =>\n",
    "                      if(bb._1 == bb._2) 1.0; else 0.5)\n",
    "}"
   ]
  },
  {
   "cell_type": "code",
   "execution_count": 39,
   "metadata": {
    "collapsed": false
   },
   "outputs": [
    {
     "name": "stdout",
     "output_type": "stream",
     "text": [
      "0.11034482758620692\n"
     ]
    },
    {
     "data": {
      "text/plain": []
     },
     "metadata": {},
     "output_type": "display_data"
    }
   ],
   "source": [
    "// 由于描述了相邻比赛的连续性，使得比赛全胜的概率增加\n",
    "makeStreaky(result1, result2)\n",
    "makeStreaky(result2, result3)\n",
    "println(VariableElimination.probability(allWins, true))"
   ]
  }
 ],
 "metadata": {
  "kernelspec": {
   "display_name": "Scala 2.11",
   "language": "scala211",
   "name": "scala211"
  },
  "language_info": {
   "codemirror_mode": "text/x-scala",
   "file_extension": ".scala",
   "mimetype": "text/x-scala",
   "name": "scala211",
   "pygments_lexer": "scala",
   "version": "2.11.8"
  }
 },
 "nbformat": 4,
 "nbformat_minor": 0
}
