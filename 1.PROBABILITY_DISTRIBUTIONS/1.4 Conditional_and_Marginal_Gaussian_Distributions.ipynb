{
 "cells": [
  {
   "cell_type": "markdown",
   "metadata": {},
   "source": [
    "$$\n",
    "A=\\left(\n",
    "\\begin{matrix}\n",
    "1&2&3&\\\\\n",
    "3&4&4&\\\\\n",
    "5&4&4&\n",
    "\\end{matrix}\n",
    "\\right)\n",
    "$$"
   ]
  },
  {
   "cell_type": "markdown",
   "metadata": {},
   "source": [
    "$$\n",
    "x=\\left(\n",
    "\\begin{matrix}\n",
    "x_a\\\\\n",
    "x_b\n",
    "\\end{matrix}\n",
    "\\right)\n",
    "$$\n",
    "\n",
    "$$\n",
    "\\mu=\\left(\n",
    "\\begin{matrix}\n",
    "\\mu_a\\\\\n",
    "\\mu_b\n",
    "\\end{matrix}\n",
    "\\right)\n",
    "$$\n",
    "\n",
    "$$\n",
    "\\Sigma=\\left(\n",
    "\\begin{matrix}\n",
    "\\Sigma_{aa}&\\Sigma_{ab}\\\\\n",
    "\\Sigma_{ba}&\\Sigma_{bb}\n",
    "\\end{matrix}\n",
    "\\right)\n",
    "$$"
   ]
  },
  {
   "cell_type": "code",
   "execution_count": null,
   "metadata": {
    "collapsed": true
   },
   "outputs": [],
   "source": []
  }
 ],
 "metadata": {
  "kernelspec": {
   "display_name": "Python 2",
   "language": "python",
   "name": "python2"
  },
  "language_info": {
   "codemirror_mode": {
    "name": "ipython",
    "version": 2
   },
   "file_extension": ".py",
   "mimetype": "text/x-python",
   "name": "python",
   "nbconvert_exporter": "python",
   "pygments_lexer": "ipython2",
   "version": "2.7.5"
  }
 },
 "nbformat": 4,
 "nbformat_minor": 0
}
