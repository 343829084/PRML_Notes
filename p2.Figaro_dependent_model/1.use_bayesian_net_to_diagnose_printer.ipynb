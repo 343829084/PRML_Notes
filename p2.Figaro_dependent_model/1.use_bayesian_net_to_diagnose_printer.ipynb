{
 "cells": [
  {
   "cell_type": "code",
   "execution_count": 1,
   "metadata": {
    "collapsed": false
   },
   "outputs": [
    {
     "data": {
      "text/plain": []
     },
     "metadata": {},
     "output_type": "display_data"
    }
   ],
   "source": [
    "classpath.addPath(\"../jsci-1.2.jar\")\n",
    "classpath.addPath(\"../figaro_2.11-4.1.0.0.jar\")"
   ]
  },
  {
   "cell_type": "markdown",
   "metadata": {},
   "source": [
    "### 打印机模型的贝叶斯网络结构\n",
    "![](./printer_state.jpeg)\n",
    "### 系统诊断模型中的网络结构\n",
    "![](./print_result_summary.jpeg)"
   ]
  },
  {
   "cell_type": "code",
   "execution_count": 7,
   "metadata": {
    "collapsed": false
   },
   "outputs": [
    {
     "data": {
      "text/plain": [
       "\u001b[32mimport \u001b[36mcom.cra.figaro.language._\u001b[0m\n",
       "\u001b[32mimport \u001b[36mcom.cra.figaro.library.compound._\u001b[0m"
      ]
     },
     "metadata": {},
     "output_type": "display_data"
    }
   ],
   "source": [
    "import com.cra.figaro.language._\n",
    "import com.cra.figaro.library.compound._"
   ]
  },
  {
   "cell_type": "code",
   "execution_count": 5,
   "metadata": {
    "collapsed": false
   },
   "outputs": [
    {
     "data": {
      "text/plain": [
       "\u001b[36mprinterPowerButtonOn\u001b[0m: \u001b[32mAtomicFlip\u001b[0m = Flip(0.95)\n",
       "\u001b[36mtonerLevel\u001b[0m: \u001b[32mAtomicSelect\u001b[0m[\u001b[32mSymbol\u001b[0m] = Select(0.7 -> 'high, 0.2 -> 'low, 0.1 -> 'out)\n",
       "\u001b[36mtonerLowIndicatorOn\u001b[0m: \u001b[32mIf\u001b[0m[\u001b[32mBoolean\u001b[0m] = If(Flip(0.95), Chain(Select(0.7 -> 'high, 0.2 -> 'low, 0.1 -> 'out), <function1>), Constant(false))\n",
       "\u001b[36mpaperFlow\u001b[0m: \u001b[32mAtomicSelect\u001b[0m[\u001b[32mSymbol\u001b[0m] = Select(0.6 -> 'smooth, 0.2 -> 'uneven, 0.2 -> 'jammed)\n",
       "\u001b[36mpaperJamIndicatorOn\u001b[0m: \u001b[32mIf\u001b[0m[\u001b[32mBoolean\u001b[0m] = If(Flip(0.95), Chain(Select(0.6 -> 'smooth, 0.2 -> 'uneven, 0.2 -> 'jammed), <function1>), Constant(false))\n",
       "\u001b[36mprinterState\u001b[0m: \u001b[32mApply3\u001b[0m[\u001b[32mBoolean\u001b[0m, \u001b[32mSymbol\u001b[0m, \u001b[32mSymbol\u001b[0m, \u001b[32mSymbol\u001b[0m] = Apply(Flip(0.95), Select(0.7 -> 'high, 0.2 -> 'low, 0.1 -> 'out), Select(0.6 -> 'smooth, 0.2 -> 'uneven, 0.2 -> 'jammed), <function3>)"
      ]
     },
     "metadata": {},
     "output_type": "display_data"
    }
   ],
   "source": [
    "// 打印机模型\n",
    "val printerPowerButtonOn = Flip(0.95)\n",
    "val tonerLevel = Select(0.7 -> 'high, 0.2 -> 'low, 0.1 -> 'out)\n",
    "val tonerLowIndicatorOn = \n",
    "    If(printerPowerButtonOn,\n",
    "      CPD(tonerLevel,\n",
    "         'high -> Flip(0.2),\n",
    "         'low -> Flip(0.6),\n",
    "         'out -> Flip(0.99)),\n",
    "       Constant(false))\n",
    "val paperFlow = Select(0.6 -> 'smooth, 0.2 -> 'uneven, 0.2 -> 'jammed)\n",
    "       \n",
    "val paperJamIndicatorOn =\n",
    "    If(printerPowerButtonOn, \n",
    "      CPD(paperFlow,\n",
    "         'smooth -> Flip(0.1),\n",
    "         'uneven -> Flip(0.3),\n",
    "         'jammed -> Flip(0.99)),\n",
    "      Constant(false))\n",
    "\n",
    "val printerState = \n",
    "    Apply(printerPowerButtonOn, tonerLevel, paperFlow,\n",
    "         (power: Boolean, toner: Symbol, paper: Symbol) => {\n",
    "             if(power) {\n",
    "                 if(toner == 'high && paper == 'smooth) 'good\n",
    "                 else if(toner == 'out || paper == 'jammed) 'out\n",
    "                 else 'poor\n",
    "             } else 'out\n",
    "         })"
   ]
  },
  {
   "cell_type": "code",
   "execution_count": 8,
   "metadata": {
    "collapsed": false
   },
   "outputs": [
    {
     "data": {
      "text/plain": [
       "\u001b[36msoftwareState\u001b[0m: \u001b[32mAtomicSelect\u001b[0m[\u001b[32mSymbol\u001b[0m] = Select(0.8 -> 'correct, 0.15 -> 'glitchy, 0.05 -> 'crashed)\n",
       "\u001b[36mnetworkState\u001b[0m: \u001b[32mAtomicSelect\u001b[0m[\u001b[32mSymbol\u001b[0m] = Select(0.7 -> 'up, 0.2 -> 'intermittent, 0.1 -> 'down)\n",
       "\u001b[36muserCommandCorrect\u001b[0m: \u001b[32mAtomicFlip\u001b[0m = Flip(0.65)\n",
       "\u001b[36mnumPrintedPages\u001b[0m: \u001b[32mRichCPD4\u001b[0m[\u001b[32mBoolean\u001b[0m, \u001b[32mSymbol\u001b[0m, \u001b[32mSymbol\u001b[0m, \u001b[32mSymbol\u001b[0m, \u001b[32mSymbol\u001b[0m] = Chain(Apply(Flip(0.65), Select(0.7 -> 'up, 0.2 -> 'intermittent, 0.1 -> 'down), Select(0.8 -> 'correct, 0.15 -> 'glitchy, 0.05 -> 'crashed), Apply(Flip(0.95), Select(0.7 -> 'high, 0.2 -> 'low, 0.1 -> 'out), Select(0.6 -> 'smooth, 0.2 -> 'uneven, 0.2 -> 'jammed), <function3>), <function4>), <function1>)\n",
       "\u001b[36mprintsQuickly\u001b[0m: \u001b[32mChain\u001b[0m[(\u001b[32mSymbol\u001b[0m, \u001b[32mSymbol\u001b[0m), \u001b[32mBoolean\u001b[0m] = Chain(Apply(Select(0.7 -> 'up, 0.2 -> 'intermittent, 0.1 -> 'down), Select(0.8 -> 'correct, 0.15 -> 'glitchy, 0.05 -> 'crashed), <function2>), <function1>)\n",
       "\u001b[36mgoodPrintQuality\u001b[0m: \u001b[32mCPD1\u001b[0m[\u001b[32mSymbol\u001b[0m, \u001b[32mBoolean\u001b[0m] = Chain(Apply(Flip(0.95), Select(0.7 -> 'high, 0.2 -> 'low, 0.1 -> 'out), Select(0.6 -> 'smooth, 0.2 -> 'uneven, 0.2 -> 'jammed), <function3>), <function1>)\n",
       "\u001b[36mprintResultSummary\u001b[0m: \u001b[32mApply3\u001b[0m[\u001b[32mSymbol\u001b[0m, \u001b[32mBoolean\u001b[0m, \u001b[32mBoolean\u001b[0m, \u001b[32mSymbol\u001b[0m] = Apply(Chain(Apply(Flip(0.65), Select(0.7 -> 'up, 0.2 -> 'intermittent, 0.1 -> 'down), Select(0.8 -> 'correct, 0.15 -> 'glitchy, 0.05 -> 'crashed), Apply(Flip(0.95), Select(0.7 -> 'high, 0.2 -> 'low, 0.1 -> 'out), Select(0.6 -> 'smooth, 0.2 -> 'uneven, 0.2 -> 'jammed), <function3>), <function4>), <function1>), Chain(Apply(Select(0.7 -> 'up, 0.2 -> 'intermittent, 0.1 -> 'down), Select(0.8 -> 'correct, 0.15 -> 'glitchy, 0.05 -> 'crashed), <function2>), <function1>), Chain(Apply(Flip(0.95), Select(0.7 -> 'high, 0.2 -> 'low, 0.1 -> 'out), Select(0.6 -> 'smooth, 0.2 -> 'uneven, 0.2 -> 'jammed), <function3>), <function1>), <function3>)"
      ]
     },
     "metadata": {},
     "output_type": "display_data"
    }
   ],
   "source": [
    "// 打印机故障模型\n",
    "val softwareState = \n",
    "    Select(0.8 -> 'correct, 0.15 -> 'glitchy, 0.05 -> 'crashed)\n",
    "val networkState = \n",
    "    Select(0.7 -> 'up, 0.2 -> 'intermittent, 0.1 -> 'down)\n",
    "val userCommandCorrect = Flip(0.65)\n",
    "\n",
    "val numPrintedPages = \n",
    "    RichCPD(userCommandCorrect, networkState,\n",
    "           softwareState, printerState,\n",
    "           (*, *, *, OneOf('out)) -> Constant('zero),\n",
    "           (*, *, OneOf('crashed), *) -> Constant('zero),\n",
    "           (*, OneOf('down), *, *) -> Constant('zero),\n",
    "           (OneOf(false), *, *, *) -> Select(0.3 -> 'zero, 0.6 -> 'some, 0.1 -> 'all),\n",
    "           (OneOf(true), *, *, *) -> Select(0.01 -> 'zero, 0.01 -> 'some, 0.98 -> 'all))\n",
    "\n",
    "val printsQuickly = \n",
    "    Chain(networkState, softwareState,\n",
    "         (network: Symbol, software: Symbol) => \n",
    "         if(network == 'down || software == 'crashed)\n",
    "             Constant(false)\n",
    "         else if(network == 'intermittent || software == 'glitchy)\n",
    "             Flip(0.5)\n",
    "         else Flip(0.9))\n",
    "\n",
    "val goodPrintQuality =\n",
    "    CPD(printerState,\n",
    "        'good -> Flip(0.95),\n",
    "        'poor -> Flip(0.3),\n",
    "        'out -> Constant(false))\n",
    "\n",
    "val printResultSummary = \n",
    "    Apply(numPrintedPages, printsQuickly, goodPrintQuality,\n",
    "         (pages: Symbol, quickly: Boolean, quality: Boolean) =>\n",
    "         if(pages == 'zero) 'none\n",
    "         else if(pages == 'some || !quickly == !quality) 'poor\n",
    "         else 'excellent)"
   ]
  },
  {
   "cell_type": "code",
   "execution_count": 9,
   "metadata": {
    "collapsed": false
   },
   "outputs": [
    {
     "data": {
      "text/plain": [
       "\u001b[32mimport \u001b[36mcom.cra.figaro.algorithm.factored.VariableElimination\u001b[0m"
      ]
     },
     "metadata": {},
     "output_type": "display_data"
    }
   ],
   "source": [
    "import com.cra.figaro.algorithm.factored.VariableElimination"
   ]
  },
  {
   "cell_type": "code",
   "execution_count": 10,
   "metadata": {
    "collapsed": false
   },
   "outputs": [
    {
     "name": "stdout",
     "output_type": "stream",
     "text": [
      "Prior probability the printer power button is on = 0.95\n"
     ]
    },
    {
     "data": {
      "text/plain": [
       "\u001b[36manswerWithNoEvidence\u001b[0m: \u001b[32mDouble\u001b[0m = \u001b[32m0.95\u001b[0m"
      ]
     },
     "metadata": {},
     "output_type": "display_data"
    }
   ],
   "source": [
    "// 1. 没有数据时，打印机电源按钮开启的先验概率\n",
    "val answerWithNoEvidence = VariableElimination.probability(printerPowerButtonOn, true)\n",
    "println(\"Prior probability the printer power button is on = \" + answerWithNoEvidence)"
   ]
  },
  {
   "cell_type": "code",
   "execution_count": 11,
   "metadata": {
    "collapsed": false
   },
   "outputs": [
    {
     "name": "stdout",
     "output_type": "stream",
     "text": [
      "Probability the printer power button is on given a poor result = 1.0\n"
     ]
    },
    {
     "data": {
      "text/plain": [
       "\u001b[36manswerIfPrintResultPoor\u001b[0m: \u001b[32mDouble\u001b[0m = \u001b[32m1.0\u001b[0m"
      ]
     },
     "metadata": {},
     "output_type": "display_data"
    }
   ],
   "source": [
    "// 2. 如果打印结果不佳，但是不是用户想要的结果\n",
    "printResultSummary.observe('poor)\n",
    "val answerIfPrintResultPoor = VariableElimination.probability(printerPowerButtonOn, true)\n",
    "println(\"Probability the printer power button is on given a poor result = \" + answerIfPrintResultPoor)"
   ]
  },
  {
   "cell_type": "code",
   "execution_count": 12,
   "metadata": {
    "collapsed": false
   },
   "outputs": [
    {
     "name": "stdout",
     "output_type": "stream",
     "text": [
      "Probability the printer power button is on given empty result = 0.8959173432160786\n"
     ]
    },
    {
     "data": {
      "text/plain": [
       "\u001b[36manswerIfPrintResultNone\u001b[0m: \u001b[32mDouble\u001b[0m = \u001b[32m0.8959173432160786\u001b[0m"
      ]
     },
     "metadata": {},
     "output_type": "display_data"
    }
   ],
   "source": [
    "// 3. 什么都没有打印进行查询\n",
    "printResultSummary.observe('none)\n",
    "val answerIfPrintResultNone = VariableElimination.probability(printerPowerButtonOn, true)\n",
    "println(\"Probability the printer power button is on given empty result = \" + answerIfPrintResultNone)"
   ]
  },
  {
   "cell_type": "code",
   "execution_count": 14,
   "metadata": {
    "collapsed": false
   },
   "outputs": [
    {
     "name": "stdout",
     "output_type": "stream",
     "text": [
      "Probability the printer power button is on given out printer state = 0.8417721518987341\n",
      "Probability the printer power button is on given out printer state and empty result = 0.841772151898734\n"
     ]
    },
    {
     "data": {
      "text/plain": [
       "\u001b[36manswerIfPrinterStateOut\u001b[0m: \u001b[32mDouble\u001b[0m = \u001b[32m0.8417721518987341\u001b[0m\n",
       "\u001b[36manswerIfPrinterStateOutAndResultNone\u001b[0m: \u001b[32mDouble\u001b[0m = \u001b[32m0.841772151898734\u001b[0m"
      ]
     },
     "metadata": {},
     "output_type": "display_data"
    }
   ],
   "source": [
    "// 4. printer power button on --> printer state --> print result summary路径上，如果观测到printer state时被阻塞\n",
    "// 已知打印机状态为停机，得知打印结果为空并没有改变打印机电源按钮开启的概率。\n",
    "// 因为在Printer State给定的情况下，Print Result Summary条件独立于Printer Power Button on\n",
    "printResultSummary.unobserve()\n",
    "printerState.observe('out)\n",
    "val answerIfPrinterStateOut = VariableElimination.probability(printerPowerButtonOn, true)\n",
    "println(\"Probability the printer power button is on given \" + \"out printer state = \" + answerIfPrinterStateOut)\n",
    "\n",
    "printResultSummary.observe('none)\n",
    "val answerIfPrinterStateOutAndResultNone = VariableElimination.probability(printerPowerButtonOn, true)\n",
    "println(\"Probability the printer power button is on given out printer state and empty result = \" + answerIfPrinterStateOutAndResultNone)"
   ]
  },
  {
   "cell_type": "code",
   "execution_count": 15,
   "metadata": {
    "collapsed": false
   },
   "outputs": [
    {
     "name": "stdout",
     "output_type": "stream",
     "text": [
      "Prior probability the printer state is good = 0.39899999999999997\n",
      "Probability printer state is good given low toner indicator = 0.23398328690807796\n"
     ]
    },
    {
     "data": {
      "text/plain": [
       "\u001b[36mprinterStateGoodPrior\u001b[0m: \u001b[32mDouble\u001b[0m = \u001b[32m0.39899999999999997\u001b[0m\n",
       "\u001b[36mprinterStateGoodGivenTonerLowIndicatorOn\u001b[0m: \u001b[32mDouble\u001b[0m = \u001b[32m0.23398328690807796\u001b[0m"
      ]
     },
     "metadata": {},
     "output_type": "display_data"
    }
   ],
   "source": [
    "// 5. 如果观察到墨粉不足指示灯，打印机状态良好的概率下降\n",
    "printResultSummary.unobserve()\n",
    "printerState.unobserve()\n",
    "val printerStateGoodPrior = VariableElimination.probability(printerState, 'good)\n",
    "println(\"Prior probability the printer state is good = \" + printerStateGoodPrior)\n",
    "\n",
    "tonerLowIndicatorOn.observe(true)\n",
    "val printerStateGoodGivenTonerLowIndicatorOn = VariableElimination.probability(printerState, 'good)\n",
    "println(\"Probability printer state is good given low toner indicator = \" + printerStateGoodGivenTonerLowIndicatorOn)"
   ]
  },
  {
   "cell_type": "code",
   "execution_count": 16,
   "metadata": {
    "collapsed": false
   },
   "outputs": [
    {
     "name": "stdout",
     "output_type": "stream",
     "text": [
      "Prior probability the software state is correct = 0.8\n",
      "Probability software state is correct given network up = 0.7999999999999999\n"
     ]
    },
    {
     "data": {
      "text/plain": [
       "\u001b[36msoftwareStateCorrectPrior\u001b[0m: \u001b[32mDouble\u001b[0m = \u001b[32m0.8\u001b[0m\n",
       "\u001b[36msoftwareStateCorrectGivenNetworkUp\u001b[0m: \u001b[32mDouble\u001b[0m = \u001b[32m0.7999999999999999\u001b[0m"
      ]
     },
     "metadata": {},
     "output_type": "display_data"
    }
   ],
   "source": [
    "// 6. 一般来说网络正常运行和软件状态相对独立\n",
    "tonerLowIndicatorOn.unobserve()\n",
    "val softwareStateCorrectPrior = VariableElimination.probability(softwareState, 'correct)\n",
    "println(\"Prior probability the software state is correct = \" + softwareStateCorrectPrior)\n",
    "\n",
    "networkState.observe('up)\n",
    "val softwareStateCorrectGivenNetworkUp = VariableElimination.probability(softwareState, 'correct)\n",
    "println(\"Probability software state is correct given network up = \" + softwareStateCorrectGivenNetworkUp)"
   ]
  },
  {
   "cell_type": "code",
   "execution_count": 17,
   "metadata": {
    "collapsed": false
   },
   "outputs": [
    {
     "name": "stdout",
     "output_type": "stream",
     "text": [
      "Probability software state is correct given prints slowly = 0.6197991391678623\n",
      "Probability software state is correct given prints slowly and network up = 0.39024390243902435\n"
     ]
    },
    {
     "data": {
      "text/plain": [
       "\u001b[36msoftwareStateCorrectGivenPrintsSlowly\u001b[0m: \u001b[32mDouble\u001b[0m = \u001b[32m0.6197991391678623\u001b[0m\n",
       "\u001b[36msoftwareStateCorrectGivenPrintsSlowlyAndNetworkUp\u001b[0m: \u001b[32mDouble\u001b[0m = \u001b[32m0.39024390243902435\u001b[0m"
      ]
     },
     "metadata": {},
     "output_type": "display_data"
    }
   ],
   "source": [
    "// 7. 如果打印机速度较慢，而得知网络正常连接，将显著降低软件状态正确的概率\n",
    "// Software State和Network State是独立的，但是在Prints Quickly给定的情况下，导致了诱导依赖性，使得两者不再条件独立\n",
    "networkState.unobserve()\n",
    "printsQuickly.observe(false)\n",
    "val softwareStateCorrectGivenPrintsSlowly = VariableElimination.probability(softwareState, 'correct)\n",
    "println(\"Probability software state is correct given prints slowly = \" + softwareStateCorrectGivenPrintsSlowly)\n",
    "\n",
    "networkState.observe('up)\n",
    "val softwareStateCorrectGivenPrintsSlowlyAndNetworkUp = VariableElimination.probability(softwareState, 'correct)\n",
    "println(\"Probability software state is correct given prints slowly and network up = \" + softwareStateCorrectGivenPrintsSlowlyAndNetworkUp)"
   ]
  },
  {
   "cell_type": "code",
   "execution_count": null,
   "metadata": {
    "collapsed": true
   },
   "outputs": [],
   "source": []
  }
 ],
 "metadata": {
  "anaconda-cloud": {},
  "kernelspec": {
   "display_name": "Scala 2.11",
   "language": "scala211",
   "name": "scala211"
  },
  "language_info": {
   "codemirror_mode": "text/x-scala",
   "file_extension": ".scala",
   "mimetype": "text/x-scala",
   "name": "scala211",
   "pygments_lexer": "scala",
   "version": "2.11.8"
  }
 },
 "nbformat": 4,
 "nbformat_minor": 0
}
